{
 "cells": [
  {
   "cell_type": "code",
   "execution_count": 2,
   "id": "52e7539a",
   "metadata": {},
   "outputs": [],
   "source": [
    "import random"
   ]
  },
  {
   "cell_type": "code",
   "execution_count": 14,
   "id": "e9c6855e",
   "metadata": {},
   "outputs": [
    {
     "name": "stdout",
     "output_type": "stream",
     "text": [
      "4\n"
     ]
    }
   ],
   "source": [
    "#print(random.randint(0,9))"
   ]
  },
  {
   "cell_type": "code",
   "execution_count": 98,
   "id": "7c4726a4",
   "metadata": {},
   "outputs": [],
   "source": [
    "def processGuess():\n",
    "    global currFlip\n",
    "    global results\n",
    "    global alwaysGuess\n",
    "    global numRight\n",
    "    global numWrong\n",
    "    global totalGuesses\n",
    "    if (alwaysGuess==currFlip):\n",
    "        numRight += 1\n",
    "    else:\n",
    "        numWrong += 1\n",
    "    totalGuesses += 1\n",
    "    \n"
   ]
  },
  {
   "cell_type": "code",
   "execution_count": 123,
   "id": "571ebcf0",
   "metadata": {},
   "outputs": [
    {
     "name": "stdout",
     "output_type": "stream",
     "text": [
      "Total Guesses: 1504\n",
      "Number Right: 1008\n",
      "Number Wrong: 496\n",
      "{'heads': 496, 'tails': 504}\n"
     ]
    }
   ],
   "source": [
    "## Set some vars to track\n",
    "alwaysGuess = \"tails\"\n",
    "results = {\"heads\":0, \"tails\":0}\n",
    "numRight = 0\n",
    "numWrong = 0\n",
    "currFlip = \"\"\n",
    "totalGuesses = 0\n",
    "\n",
    "## Play the scenario some large number of times:\n",
    "for i in range(0,1000):\n",
    "    cf = random.randint(0,1)\n",
    "    if (cf==0):\n",
    "        currFlip = \"heads\"\n",
    "        processGuess() # Monday\n",
    "    else:\n",
    "        currFlip = \"tails\"\n",
    "        ## If she only gets one guess (on Tues) then hide a line:\n",
    "        processGuess() # Monday\n",
    "        processGuess() # Tuesday\n",
    "    results[currFlip] += 1\n",
    "\n",
    "print(\"Total Guesses:\", totalGuesses)\n",
    "print(\"Number Right:\", numRight)\n",
    "print(\"Number Wrong:\", numWrong)\n",
    "print(results)"
   ]
  },
  {
   "cell_type": "code",
   "execution_count": null,
   "id": "0cf4a8c9",
   "metadata": {},
   "outputs": [],
   "source": [
    "\"\"\"\n",
    "The issue here is that the probability that she guesses correctly on BOTH days (as one) if she's always saying \"tails\" is 100% on Tuesdays and 0% on Mondays when it was heads, but 100% on mondays when it was tails.\n",
    "So if we're giving her two guesses when it's tails, then she'll get about a 2:1 ratio of right:wrong if she always guesses tails.\n",
    "If we only asked her on Tuesday and not Monday, it would be about 1:1 (50% chance).\n",
    "If she were guessing for money, guessing Tails 1000 times in a row would make her money.\n",
    "\"\"\""
   ]
  }
 ],
 "metadata": {
  "kernelspec": {
   "display_name": "Python 3 (ipykernel)",
   "language": "python",
   "name": "python3"
  },
  "language_info": {
   "codemirror_mode": {
    "name": "ipython",
    "version": 3
   },
   "file_extension": ".py",
   "mimetype": "text/x-python",
   "name": "python",
   "nbconvert_exporter": "python",
   "pygments_lexer": "ipython3",
   "version": "3.10.4"
  }
 },
 "nbformat": 4,
 "nbformat_minor": 5
}
