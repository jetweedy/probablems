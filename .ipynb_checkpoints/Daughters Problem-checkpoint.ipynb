{
 "cells": [
  {
   "cell_type": "code",
   "execution_count": 202,
   "id": "52e7539a",
   "metadata": {},
   "outputs": [],
   "source": [
    "import random\n",
    "import json"
   ]
  },
  {
   "cell_type": "code",
   "execution_count": 356,
   "id": "d15e10d1",
   "metadata": {},
   "outputs": [
    {
     "name": "stdout",
     "output_type": "stream",
     "text": [
      "Both Girls: 24767 / 75111\n"
     ]
    }
   ],
   "source": [
    "#### \"I have two children. One is a daughter named Sarah. Is the other one a boy or a girl?\"\n",
    "\n",
    "numAnyGirls = 0\n",
    "numBothGirls = 0\n",
    "## Assume .1% (1/1000th) of girls are named 'Sarah'\n",
    "nameDiv = 1000\n",
    "\n",
    "families = []\n",
    "for i in range(0,100000):\n",
    "    oldest = {\"sex\":\"girl\" if random.randint(0,1) else \"boy\", \"name\":\"Other\"}\n",
    "    youngest = {\"sex\":\"girl\" if random.randint(0,1) else \"boy\", \"name\":\"Other\"}\n",
    "    if (oldest[\"sex\"]==\"girl\"):\n",
    "        numGirls += 1\n",
    "        if (numGirls%nameDiv==0):\n",
    "            oldest[\"name\"] = \"Sarah\"\n",
    "    if (youngest[\"sex\"]==\"girl\"):\n",
    "        numGirls += 1\n",
    "        if (numGirls%nameDiv==0):\n",
    "            youngest[\"name\"] = \"Sarah\"\n",
    "    families.append({\n",
    "        \"oldest\":oldest, \"youngest\":youngest\n",
    "    })\n",
    "\n",
    "for family in families:\n",
    "    hasGirl = False\n",
    "    bothGirls = False\n",
    "    hasSarah = False\n",
    "    if (\"girl\"==family[\"oldest\"][\"sex\"]):\n",
    "        hasGirl = True\n",
    "        if (\"Sarah\"==family[\"oldest\"][\"name\"]):\n",
    "            hasSarah = True\n",
    "    if (\"girl\"==family[\"youngest\"][\"sex\"]):\n",
    "        if (hasGirl):\n",
    "            bothGirls = True\n",
    "        hasGirl = True\n",
    "        if (\"Sarah\"==family[\"youngest\"][\"name\"]):\n",
    "            hasSarah = True\n",
    "    if True:\n",
    "        ## Hide this conditional if we're not having them mention having a girl:\n",
    "        if (hasGirl):\n",
    "            ## Hide this conditional line if we're not having them name their daughter\n",
    "            #if (hasSarah):\n",
    "                #familyJSON = json.dumps(family, indent = 4)\n",
    "                #print(family)\n",
    "                numAnyGirls += 1\n",
    "                if (bothGirls):\n",
    "                    numBothGirls += 1\n",
    "        \n",
    "print(\"Both Girls:\", numBothGirls, \"/\", numAnyGirls)"
   ]
  },
  {
   "cell_type": "code",
   "execution_count": null,
   "id": "49fecbd2",
   "metadata": {},
   "outputs": [],
   "source": []
  }
 ],
 "metadata": {
  "kernelspec": {
   "display_name": "Python 3 (ipykernel)",
   "language": "python",
   "name": "python3"
  },
  "language_info": {
   "codemirror_mode": {
    "name": "ipython",
    "version": 3
   },
   "file_extension": ".py",
   "mimetype": "text/x-python",
   "name": "python",
   "nbconvert_exporter": "python",
   "pygments_lexer": "ipython3",
   "version": "3.10.4"
  }
 },
 "nbformat": 4,
 "nbformat_minor": 5
}
