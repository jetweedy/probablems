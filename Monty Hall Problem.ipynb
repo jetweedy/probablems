{
 "cells": [
  {
   "cell_type": "code",
   "execution_count": 2,
   "id": "52e7539a",
   "metadata": {},
   "outputs": [],
   "source": [
    "import random"
   ]
  },
  {
   "cell_type": "code",
   "execution_count": 75,
   "id": "571ebcf0",
   "metadata": {},
   "outputs": [
    {
     "name": "stdout",
     "output_type": "stream",
     "text": [
      "Num Correct: 69 out of 100\n"
     ]
    }
   ],
   "source": [
    "## Play the scenario some large number of times:\n",
    "numPlays = 100\n",
    "numCorrect = 0\n",
    "for i in range(0,numPlays):\n",
    "    winner = random.randint(1,3)\n",
    "    guess = random.randint(1,3)\n",
    "    possibleShows = []\n",
    "    possiblePicks = []\n",
    "    for ii in range(1,4):\n",
    "        if (ii!=guess and ii!=winner):\n",
    "            possibleShows.append(ii)\n",
    "    ## Pick a random number in the length of the possibleShows and grab that one\n",
    "    ## There will be 1 or 2 options, so either they HAVE to show one, or they can show two...\n",
    "    show = possibleShows[random.randint(0,len(possibleShows)-1)]\n",
    "    for ii in range(1,4):\n",
    "        if (ii!=guess and ii!=show):\n",
    "            switch = ii\n",
    "    #print(\"winner:\", winner)\n",
    "    #print(\"guess:\", guess)\n",
    "    #print(\"possibleShows\", possibleShows)\n",
    "    #print(\"show:\", show)\n",
    "    #print(\"switch:\", switch)\n",
    "    if (switch==winner):\n",
    "        numCorrect += 1\n",
    "        #print(\"WINNER!\")\n",
    "    #print()\n",
    "\n",
    "print(\"Num Correct:\", numCorrect, \"out of\", numPlays)\n"
   ]
  }
 ],
 "metadata": {
  "kernelspec": {
   "display_name": "Python 3 (ipykernel)",
   "language": "python",
   "name": "python3"
  },
  "language_info": {
   "codemirror_mode": {
    "name": "ipython",
    "version": 3
   },
   "file_extension": ".py",
   "mimetype": "text/x-python",
   "name": "python",
   "nbconvert_exporter": "python",
   "pygments_lexer": "ipython3",
   "version": "3.10.4"
  }
 },
 "nbformat": 4,
 "nbformat_minor": 5
}
